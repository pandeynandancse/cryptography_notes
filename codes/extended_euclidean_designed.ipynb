{
 "cells": [
  {
   "cell_type": "code",
   "execution_count": 7,
   "metadata": {},
   "outputs": [
    {
     "name": "stdout",
     "output_type": "stream",
     "text": [
      "Python code for extended euclidean algorithm\n",
      "Enter two numbers whose GCD has to be find\n",
      "161 28\n",
      "161\n",
      "28\n"
     ]
    }
   ],
   "source": [
    "print(\"Python code for extended euclidean algorithm\")\n",
    "print(\"Enter two numbers whose GCD has to be find\")\n",
    "li = input().split()\n",
    "a = li[0]\n",
    "b = li[1]\n",
    "a = int(a)\n",
    "b = int(b)\n",
    "print(a)\n",
    "print(b)"
   ]
  },
  {
   "cell_type": "code",
   "execution_count": 31,
   "metadata": {},
   "outputs": [
    {
     "name": "stdout",
     "output_type": "stream",
     "text": [
      "1 iteration\n",
      "-------------------\n",
      "|  28    |\n",
      "|  21   |\n",
      "|  0    |\n",
      "|  1    |\n",
      "|  1    |\n",
      "|  -5    |\n",
      "-------------------\n",
      "\n",
      "\n",
      "2 iteration\n",
      "-------------------\n",
      "|  21    |\n",
      "|  7   |\n",
      "|  1    |\n",
      "|  -1    |\n",
      "|  -5    |\n",
      "|  6    |\n",
      "-------------------\n",
      "\n",
      "\n",
      "3 iteration\n",
      "-------------------\n",
      "|  7    |\n",
      "|  0   |\n",
      "|  -1    |\n",
      "|  4    |\n",
      "|  6    |\n",
      "|  -23    |\n",
      "-------------------\n",
      "\n",
      "\n"
     ]
    }
   ],
   "source": [
    "s1 = 1\n",
    "t2 = 1\n",
    "s2 = 0\n",
    "t1 = 0\n",
    "r1 = a\n",
    "r2 = b\n",
    "i = 0\n",
    "while(r2 != 0):\n",
    "    i = i + 1\n",
    "    q = r1 // r2\n",
    "    r = r1 % r2\n",
    "    s = s1 - (s2 * q)\n",
    "    t = t1 - (t2 * q)\n",
    "    r1 = r2\n",
    "    r2 = r\n",
    "    s1 = s2\n",
    "    s2 = s\n",
    "    t1 = t2\n",
    "    t2 = t\n",
    "    print(str(i) + ' iteration')\n",
    "    print('-------------------')\n",
    "    print('|  ' + str(r1) + '    |')\n",
    "    print('|  ' + str(r2) + '   |')\n",
    "    print('|  ' + str(s1)  + '    |')\n",
    "    print('|  ' + str(s2)  + '    |')\n",
    "    print('|  ' + str(t1)  + '    |')\n",
    "    print('|  ' + str(t2)  + '    |')\n",
    "    print('-------------------')\n",
    "    print(\"\\n\")"
   ]
  },
  {
   "cell_type": "code",
   "execution_count": 25,
   "metadata": {},
   "outputs": [
    {
     "name": "stdout",
     "output_type": "stream",
     "text": [
      "7\n",
      "7\n",
      "0\n",
      "-1\n",
      "4\n",
      "6\n",
      "-23\n"
     ]
    }
   ],
   "source": [
    "gcd = r1\n",
    "print(gcd)\n",
    "print(r1)\n",
    "print(r2)\n",
    "print(s1)\n",
    "print(s2)\n",
    "print(t1)\n",
    "print(t2)"
   ]
  },
  {
   "cell_type": "code",
   "execution_count": null,
   "metadata": {},
   "outputs": [],
   "source": []
  }
 ],
 "metadata": {
  "kernelspec": {
   "display_name": "Python 3",
   "language": "python",
   "name": "python3"
  },
  "language_info": {
   "codemirror_mode": {
    "name": "ipython",
    "version": 3
   },
   "file_extension": ".py",
   "mimetype": "text/x-python",
   "name": "python",
   "nbconvert_exporter": "python",
   "pygments_lexer": "ipython3",
   "version": "3.7.3"
  }
 },
 "nbformat": 4,
 "nbformat_minor": 2
}
